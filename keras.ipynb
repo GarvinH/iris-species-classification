{
 "cells": [
  {
   "cell_type": "markdown",
   "id": "9e378a47-3b4c-4084-ae3d-093de79843bb",
   "metadata": {},
   "source": [
    "First perform necessary imports"
   ]
  },
  {
   "cell_type": "code",
   "execution_count": 1,
   "id": "53925ff9-8958-4040-9c0d-bcd198c93628",
   "metadata": {},
   "outputs": [],
   "source": [
    "import pandas\n",
    "import tensorflow as tf\n",
    "import numpy as np\n",
    "\n",
    "from sklearn.model_selection import train_test_split\n",
    "from sklearn.preprocessing import normalize"
   ]
  },
  {
   "cell_type": "markdown",
   "id": "b3370470-3dcd-4ada-92cb-48518cf97070",
   "metadata": {},
   "source": [
    "Then load in the data"
   ]
  },
  {
   "cell_type": "code",
   "execution_count": 2,
   "id": "b49ca41e-bf1f-4657-8fb3-e8c35af4adb9",
   "metadata": {},
   "outputs": [],
   "source": [
    "data = pandas.read_csv(\"iris.csv\")"
   ]
  },
  {
   "cell_type": "markdown",
   "id": "15f4f134-9518-4d22-b31c-056d6223c249",
   "metadata": {},
   "source": [
    "View the data structure:"
   ]
  },
  {
   "cell_type": "code",
   "execution_count": 3,
   "id": "4ea7cfae-94cb-4f91-9ac9-ef295db393f6",
   "metadata": {},
   "outputs": [
    {
     "name": "stdout",
     "output_type": "stream",
     "text": [
      "   Id  SepalLengthCm  SepalWidthCm  PetalLengthCm  PetalWidthCm      Species\n",
      "0   1            5.1           3.5            1.4           0.2  Iris-setosa\n",
      "1   2            4.9           3.0            1.4           0.2  Iris-setosa\n",
      "2   3            4.7           3.2            1.3           0.2  Iris-setosa\n",
      "3   4            4.6           3.1            1.5           0.2  Iris-setosa\n",
      "4   5            5.0           3.6            1.4           0.2  Iris-setosa\n"
     ]
    }
   ],
   "source": [
    "print(data.head())"
   ]
  },
  {
   "cell_type": "markdown",
   "id": "3e12b434-5988-4aa2-8945-ba84ef926eda",
   "metadata": {},
   "source": [
    "We won't be using the `Id` column"
   ]
  },
  {
   "cell_type": "code",
   "execution_count": 4,
   "id": "088a5065-3332-4b64-b56f-03d4af523cb6",
   "metadata": {},
   "outputs": [
    {
     "data": {
      "text/plain": [
       "0        1\n",
       "1        2\n",
       "2        3\n",
       "3        4\n",
       "4        5\n",
       "      ... \n",
       "145    146\n",
       "146    147\n",
       "147    148\n",
       "148    149\n",
       "149    150\n",
       "Name: Id, Length: 150, dtype: int64"
      ]
     },
     "execution_count": 4,
     "metadata": {},
     "output_type": "execute_result"
    }
   ],
   "source": [
    "data.pop(\"Id\")"
   ]
  },
  {
   "cell_type": "markdown",
   "id": "be75852d-f58d-4461-af93-51daa5017fb8",
   "metadata": {},
   "source": [
    "We want the species to be represented in numbers so turn them into numbers, then update the data values"
   ]
  },
  {
   "cell_type": "code",
   "execution_count": 5,
   "id": "aca20a1e-0dbc-40ff-8009-5dd148b952dc",
   "metadata": {},
   "outputs": [],
   "source": [
    "data[\"Species\"] = pandas.factorize(data[\"Species\"])[0]\n",
    "\n",
    "data = data.values\n",
    "\n",
    "#print(data)"
   ]
  },
  {
   "cell_type": "markdown",
   "id": "76f163ac-d965-4cb6-ab8d-9860ed0b0424",
   "metadata": {},
   "source": [
    "Split the data into features and labels. Then normalize the features"
   ]
  },
  {
   "cell_type": "code",
   "execution_count": 6,
   "id": "4766418f-7f5f-4db2-970c-bce2827500a0",
   "metadata": {},
   "outputs": [],
   "source": [
    "x = data[:,:-1]\n",
    "y = data[:,-1]\n",
    "\n",
    "x = normalize(x)"
   ]
  },
  {
   "cell_type": "markdown",
   "id": "42ed9397-6cd0-431f-9169-d105105f18a5",
   "metadata": {},
   "source": [
    "Split the training and test data by 80%/20%"
   ]
  },
  {
   "cell_type": "code",
   "execution_count": 7,
   "id": "76cec7b3-8274-4f22-a1a6-af8f7fcfbf36",
   "metadata": {},
   "outputs": [],
   "source": [
    "x_train, x_test, y_train, y_test = train_test_split(x, y, test_size=0.2)"
   ]
  },
  {
   "cell_type": "code",
   "execution_count": 8,
   "id": "ef544c6e-4bd5-494b-9b66-1de5fb9000b6",
   "metadata": {},
   "outputs": [],
   "source": [
    "#print(x, y)"
   ]
  },
  {
   "cell_type": "code",
   "execution_count": 9,
   "id": "3b203f7d-dfdb-4f14-bfa6-08622c87531a",
   "metadata": {},
   "outputs": [],
   "source": [
    "#print(y)"
   ]
  },
  {
   "cell_type": "markdown",
   "id": "7062a93f-2475-45b6-affd-c3bd3b586a58",
   "metadata": {},
   "source": [
    "Building our model"
   ]
  },
  {
   "cell_type": "code",
   "execution_count": 10,
   "id": "40169e71-c024-4a18-ad3f-fa73f1834e3b",
   "metadata": {},
   "outputs": [],
   "source": [
    "model = tf.keras.Sequential([\n",
    "    tf.keras.layers.Dense(1500, activation=\"relu\", input_dim=4),\n",
    "    tf.keras.layers.Dense(500, activation=\"relu\"),\n",
    "    tf.keras.layers.Dense(300, activation=\"relu\"),\n",
    "    tf.keras.layers.Dense(3, activation=\"softmax\")\n",
    "])"
   ]
  },
  {
   "cell_type": "code",
   "execution_count": 11,
   "id": "ac5ec92a-41fc-49c0-924a-6218e490fbd3",
   "metadata": {},
   "outputs": [],
   "source": [
    "model.compile(optimizer='adam',\n",
    "              loss=tf.keras.losses.SparseCategoricalCrossentropy(),\n",
    "              metrics=['accuracy'])\n"
   ]
  },
  {
   "cell_type": "code",
   "execution_count": 12,
   "id": "ac129a9d-4835-47f6-8366-0ddd694eb06e",
   "metadata": {},
   "outputs": [
    {
     "name": "stdout",
     "output_type": "stream",
     "text": [
      "Epoch 1/10\n",
      "4/4 [==============================] - 0s 8ms/step - loss: 1.0853 - accuracy: 0.5500\n",
      "Epoch 2/10\n",
      "4/4 [==============================] - 0s 9ms/step - loss: 0.9435 - accuracy: 0.7083\n",
      "Epoch 3/10\n",
      "4/4 [==============================] - 0s 8ms/step - loss: 0.7498 - accuracy: 0.7500\n",
      "Epoch 4/10\n",
      "4/4 [==============================] - 0s 7ms/step - loss: 0.5661 - accuracy: 0.7000\n",
      "Epoch 5/10\n",
      "4/4 [==============================] - 0s 9ms/step - loss: 0.4337 - accuracy: 0.8417\n",
      "Epoch 6/10\n",
      "4/4 [==============================] - 0s 7ms/step - loss: 0.3708 - accuracy: 0.8833\n",
      "Epoch 7/10\n",
      "4/4 [==============================] - 0s 8ms/step - loss: 0.3097 - accuracy: 0.9417\n",
      "Epoch 8/10\n",
      "4/4 [==============================] - 0s 8ms/step - loss: 0.2618 - accuracy: 0.9583\n",
      "Epoch 9/10\n",
      "4/4 [==============================] - 0s 8ms/step - loss: 0.2099 - accuracy: 0.9667\n",
      "Epoch 10/10\n",
      "4/4 [==============================] - 0s 8ms/step - loss: 0.1765 - accuracy: 0.9667\n"
     ]
    },
    {
     "data": {
      "text/plain": [
       "<tensorflow.python.keras.callbacks.History at 0x7fcd2c177e20>"
      ]
     },
     "execution_count": 12,
     "metadata": {},
     "output_type": "execute_result"
    }
   ],
   "source": [
    "model.fit(x_train, y_train, epochs=10)"
   ]
  },
  {
   "cell_type": "code",
   "execution_count": 13,
   "id": "39a06b81-5b28-4f30-abca-96844fee02e8",
   "metadata": {},
   "outputs": [
    {
     "name": "stdout",
     "output_type": "stream",
     "text": [
      "1/1 [==============================] - 0s 112ms/step - loss: 0.1887 - accuracy: 0.9333\n"
     ]
    },
    {
     "data": {
      "text/plain": [
       "[0.18873053789138794, 0.9333333373069763]"
      ]
     },
     "execution_count": 13,
     "metadata": {},
     "output_type": "execute_result"
    }
   ],
   "source": [
    "model.evaluate(x_test, y_test, verbose=1)"
   ]
  },
  {
   "cell_type": "markdown",
   "id": "ecbabbdb-66fa-4f77-9e73-4b45c7b22771",
   "metadata": {},
   "source": [
    "Done! We get an accuracy generally between 90% to 100%"
   ]
  },
  {
   "cell_type": "code",
   "execution_count": 14,
   "id": "de5b53bc-2031-46fa-b67e-e4fe9b74793d",
   "metadata": {},
   "outputs": [
    {
     "data": {
      "text/plain": [
       "array([[1.82490490e-04, 3.66832107e-01, 6.32985353e-01],\n",
       "       [9.98983085e-01, 1.01667235e-03, 2.89475906e-07],\n",
       "       [2.18220976e-06, 3.02144717e-02, 9.69783306e-01],\n",
       "       [1.06865773e-03, 7.45852411e-01, 2.53078997e-01],\n",
       "       [1.16721538e-04, 2.94474781e-01, 7.05408514e-01],\n",
       "       [3.65559185e-06, 3.89426313e-02, 9.61053669e-01],\n",
       "       [9.99721825e-01, 2.78164342e-04, 5.47416050e-08],\n",
       "       [9.99488950e-01, 5.10910526e-04, 1.16785834e-07],\n",
       "       [3.56932323e-05, 1.53231993e-01, 8.46732259e-01],\n",
       "       [9.99930501e-01, 6.94432601e-05, 8.76804940e-09],\n",
       "       [2.44853576e-03, 8.85157168e-01, 1.12394281e-01],\n",
       "       [2.41237267e-05, 1.21708915e-01, 8.78266990e-01],\n",
       "       [1.86833448e-03, 8.46684337e-01, 1.51447296e-01],\n",
       "       [1.69995315e-02, 9.64393735e-01, 1.86068397e-02],\n",
       "       [3.36436997e-03, 9.20718074e-01, 7.59175271e-02],\n",
       "       [9.99911427e-01, 8.86186681e-05, 1.22394894e-08],\n",
       "       [9.99789894e-01, 2.10120576e-04, 3.73775322e-08],\n",
       "       [9.99703586e-01, 2.96371611e-04, 5.80048258e-08],\n",
       "       [3.23521499e-06, 3.63640897e-02, 9.63632643e-01],\n",
       "       [1.75317295e-03, 8.37554276e-01, 1.60692513e-01],\n",
       "       [4.70481536e-05, 1.78576872e-01, 8.21376085e-01],\n",
       "       [9.99588668e-01, 4.11250745e-04, 8.81807836e-08],\n",
       "       [9.99886990e-01, 1.12981026e-04, 1.65725798e-08],\n",
       "       [3.95048228e-05, 1.62688822e-01, 8.37271631e-01],\n",
       "       [3.09776003e-03, 9.13071811e-01, 8.38303789e-02],\n",
       "       [4.41321827e-05, 1.71927795e-01, 8.28028023e-01],\n",
       "       [9.99457777e-01, 5.42049005e-04, 1.26797673e-07],\n",
       "       [9.56910895e-04, 7.22939014e-01, 2.76104063e-01],\n",
       "       [9.99432027e-01, 5.67869924e-04, 1.32850005e-07],\n",
       "       [1.10501278e-05, 7.66610503e-02, 9.23327923e-01]], dtype=float32)"
      ]
     },
     "execution_count": 14,
     "metadata": {},
     "output_type": "execute_result"
    }
   ],
   "source": [
    "model.predict(x_test)"
   ]
  }
 ],
 "metadata": {
  "kernelspec": {
   "display_name": "Python 3",
   "language": "python",
   "name": "python3"
  },
  "language_info": {
   "codemirror_mode": {
    "name": "ipython",
    "version": 3
   },
   "file_extension": ".py",
   "mimetype": "text/x-python",
   "name": "python",
   "nbconvert_exporter": "python",
   "pygments_lexer": "ipython3",
   "version": "3.9.4"
  }
 },
 "nbformat": 4,
 "nbformat_minor": 5
}
